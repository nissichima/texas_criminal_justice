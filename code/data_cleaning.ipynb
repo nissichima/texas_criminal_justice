{
 "cells": [
  {
   "cell_type": "code",
   "execution_count": 64,
   "metadata": {},
   "outputs": [],
   "source": [
    "import os\n",
    "import pandas as pd\n",
    "pd.set_option(\"max_columns\",100)\n",
    "pd.set_option(\"max_rows\",100)"
   ]
  },
  {
   "cell_type": "code",
   "execution_count": 4,
   "metadata": {},
   "outputs": [],
   "source": [
    "os.chdir('..')"
   ]
  },
  {
   "cell_type": "code",
   "execution_count": 17,
   "metadata": {},
   "outputs": [],
   "source": [
    "raw_data_path = \"datasets/innmate_on_deathrow.csv\""
   ]
  },
  {
   "cell_type": "code",
   "execution_count": 18,
   "metadata": {},
   "outputs": [],
   "source": [
    "df = pd.read_csv(raw_data_path).drop('Unnamed: 0',axis=1)"
   ]
  },
  {
   "cell_type": "code",
   "execution_count": 19,
   "metadata": {},
   "outputs": [
    {
     "data": {
      "text/plain": [
       "Index(['Name', 'TDCJ #', 'DOB', 'Received Date', 'Received Age',\n",
       "       'Education Level', 'Offense Date', 'Age', 'County', 'Race', 'Gender',\n",
       "       'Hair', 'Height', 'Weight', 'Eyes', 'Native County', 'Native State',\n",
       "       'Occupation', 'Record', 'Incident', 'Co_defendants',\n",
       "       'Victim_race_gender'],\n",
       "      dtype='object')"
      ]
     },
     "execution_count": 19,
     "metadata": {},
     "output_type": "execute_result"
    }
   ],
   "source": [
    "df.columns"
   ]
  },
  {
   "cell_type": "code",
   "execution_count": 20,
   "metadata": {},
   "outputs": [
    {
     "data": {
      "text/plain": [
       "Name                  object\n",
       "TDCJ #                 int64\n",
       "DOB                   object\n",
       "Received Date         object\n",
       "Received Age           int64\n",
       "Education Level       object\n",
       "Offense Date          object\n",
       "Age                    int64\n",
       "County                object\n",
       "Race                  object\n",
       "Gender                object\n",
       "Hair                  object\n",
       "Height                object\n",
       "Weight                object\n",
       "Eyes                  object\n",
       "Native County         object\n",
       "Native State          object\n",
       "Occupation            object\n",
       "Record                object\n",
       "Incident              object\n",
       "Co_defendants         object\n",
       "Victim_race_gender    object\n",
       "dtype: object"
      ]
     },
     "execution_count": 20,
     "metadata": {},
     "output_type": "execute_result"
    }
   ],
   "source": [
    "df.dtypes"
   ]
  },
  {
   "cell_type": "code",
   "execution_count": 21,
   "metadata": {},
   "outputs": [
    {
     "data": {
      "text/html": [
       "<div>\n",
       "<style scoped>\n",
       "    .dataframe tbody tr th:only-of-type {\n",
       "        vertical-align: middle;\n",
       "    }\n",
       "\n",
       "    .dataframe tbody tr th {\n",
       "        vertical-align: top;\n",
       "    }\n",
       "\n",
       "    .dataframe thead th {\n",
       "        text-align: right;\n",
       "    }\n",
       "</style>\n",
       "<table border=\"1\" class=\"dataframe\">\n",
       "  <thead>\n",
       "    <tr style=\"text-align: right;\">\n",
       "      <th></th>\n",
       "      <th>Name</th>\n",
       "      <th>TDCJ #</th>\n",
       "      <th>DOB</th>\n",
       "      <th>Received Date</th>\n",
       "      <th>Received Age</th>\n",
       "      <th>Education Level</th>\n",
       "      <th>Offense Date</th>\n",
       "      <th>Age</th>\n",
       "      <th>County</th>\n",
       "      <th>Race</th>\n",
       "      <th>Gender</th>\n",
       "      <th>Hair</th>\n",
       "      <th>Height</th>\n",
       "      <th>Weight</th>\n",
       "      <th>Eyes</th>\n",
       "      <th>Native County</th>\n",
       "      <th>Native State</th>\n",
       "      <th>Occupation</th>\n",
       "      <th>Record</th>\n",
       "      <th>Incident</th>\n",
       "      <th>Co_defendants</th>\n",
       "      <th>Victim_race_gender</th>\n",
       "    </tr>\n",
       "  </thead>\n",
       "  <tbody>\n",
       "    <tr>\n",
       "      <th>0</th>\n",
       "      <td>Rockwell, Kwame A.</td>\n",
       "      <td>999570</td>\n",
       "      <td>12/07/1975</td>\n",
       "      <td>01/30/2012</td>\n",
       "      <td>36</td>\n",
       "      <td>12</td>\n",
       "      <td>03/23/2010</td>\n",
       "      <td>34</td>\n",
       "      <td>Tarrant</td>\n",
       "      <td>Black</td>\n",
       "      <td>Male</td>\n",
       "      <td>Black</td>\n",
       "      <td>6′ 1″</td>\n",
       "      <td>233</td>\n",
       "      <td>Brown</td>\n",
       "      <td>Tarrant</td>\n",
       "      <td>Texas</td>\n",
       "      <td>Prior Occupation\\nSales</td>\n",
       "      <td>Prior Prison Record\\nNone</td>\n",
       "      <td>Summary of Incident\\nIn the early morning hour...</td>\n",
       "      <td>Co-Defendants\\nRandy Ciebel, Tyron Thomas, Cha...</td>\n",
       "      <td>Race and Gender of Victim\\nOne hispanic male, ...</td>\n",
       "    </tr>\n",
       "    <tr>\n",
       "      <th>1</th>\n",
       "      <td>Burton, Arthur Lee</td>\n",
       "      <td>999283</td>\n",
       "      <td>3/29/70</td>\n",
       "      <td>9/16/98</td>\n",
       "      <td>28</td>\n",
       "      <td>12 years</td>\n",
       "      <td>7/29/97</td>\n",
       "      <td>27</td>\n",
       "      <td>Harris</td>\n",
       "      <td>Black</td>\n",
       "      <td>Male</td>\n",
       "      <td>Black</td>\n",
       "      <td>5′ 10″</td>\n",
       "      <td>176</td>\n",
       "      <td>Brown</td>\n",
       "      <td>Bastrop</td>\n",
       "      <td>Louisiana</td>\n",
       "      <td>Prior Occupation\\nUnknown</td>\n",
       "      <td>Prior Prison Record\\nNone</td>\n",
       "      <td>Summary of Incident\\nOn July 29, 1997, in Hous...</td>\n",
       "      <td>Co-Defendants\\nNone</td>\n",
       "      <td>Race and Gender of Victim\\nWhite female</td>\n",
       "    </tr>\n",
       "    <tr>\n",
       "      <th>2</th>\n",
       "      <td>Gallo, Tomas Raul</td>\n",
       "      <td>999469</td>\n",
       "      <td>03/01/1975</td>\n",
       "      <td>02/24/2004</td>\n",
       "      <td>28</td>\n",
       "      <td>11</td>\n",
       "      <td>12/11/2003</td>\n",
       "      <td>28</td>\n",
       "      <td>Harris</td>\n",
       "      <td>White</td>\n",
       "      <td>Male</td>\n",
       "      <td>Brown</td>\n",
       "      <td>5′ 10″</td>\n",
       "      <td>202</td>\n",
       "      <td>Black</td>\n",
       "      <td>Monterey</td>\n",
       "      <td>California</td>\n",
       "      <td>Prior Occupation\\nhydro-water blaster, laborer</td>\n",
       "      <td>Prior Prison Record\\nNone</td>\n",
       "      <td>Summary of Incident\\nOn 12/11/2001, in Harris ...</td>\n",
       "      <td>Co-Defendants\\nNone</td>\n",
       "      <td>Race and Gender of Victim\\nHispanic/Female</td>\n",
       "    </tr>\n",
       "    <tr>\n",
       "      <th>3</th>\n",
       "      <td>Milam, Blaine Keith</td>\n",
       "      <td>999558</td>\n",
       "      <td>12/12/1989</td>\n",
       "      <td>06/11/2010</td>\n",
       "      <td>20</td>\n",
       "      <td>4th Grade</td>\n",
       "      <td>12/02/2008</td>\n",
       "      <td>18</td>\n",
       "      <td>Rusk</td>\n",
       "      <td>White</td>\n",
       "      <td>Male</td>\n",
       "      <td>Blonde</td>\n",
       "      <td>6′ 0″</td>\n",
       "      <td>250</td>\n",
       "      <td>Green</td>\n",
       "      <td>Gregg County</td>\n",
       "      <td>Texas</td>\n",
       "      <td>Prior Occupation\\nNone</td>\n",
       "      <td>Prior Prison Record\\nNone</td>\n",
       "      <td>Summary of Incident\\nIn December 2008, Milam a...</td>\n",
       "      <td>Co-Defendants\\nJessica Bain Carson</td>\n",
       "      <td>Race and Gender of Victim\\nWhite female</td>\n",
       "    </tr>\n",
       "    <tr>\n",
       "      <th>4</th>\n",
       "      <td>Vasquez, Richard</td>\n",
       "      <td>999319</td>\n",
       "      <td>04/17/1979</td>\n",
       "      <td>06/24/1999</td>\n",
       "      <td>20</td>\n",
       "      <td>9</td>\n",
       "      <td>03/05/1998</td>\n",
       "      <td>18</td>\n",
       "      <td>Nueces</td>\n",
       "      <td>Hispanic</td>\n",
       "      <td>Male</td>\n",
       "      <td>Black</td>\n",
       "      <td>5′ 9″</td>\n",
       "      <td>180</td>\n",
       "      <td>Brown</td>\n",
       "      <td>Nueces</td>\n",
       "      <td>Texas</td>\n",
       "      <td>Prior Occupation\\nLaborer</td>\n",
       "      <td>Prior Prison Record\\nNone</td>\n",
       "      <td>Summary of Incident\\nOn 03/05/98, during the d...</td>\n",
       "      <td>Co-Defendants\\nNone</td>\n",
       "      <td>Race and Gender of Victim\\nHispanic female</td>\n",
       "    </tr>\n",
       "  </tbody>\n",
       "</table>\n",
       "</div>"
      ],
      "text/plain": [
       "                  Name  TDCJ #         DOB Received Date  Received Age  \\\n",
       "0   Rockwell, Kwame A.  999570  12/07/1975    01/30/2012            36   \n",
       "1   Burton, Arthur Lee  999283     3/29/70       9/16/98            28   \n",
       "2    Gallo, Tomas Raul  999469  03/01/1975    02/24/2004            28   \n",
       "3  Milam, Blaine Keith  999558  12/12/1989    06/11/2010            20   \n",
       "4     Vasquez, Richard  999319  04/17/1979    06/24/1999            20   \n",
       "\n",
       "  Education Level Offense Date  Age   County      Race Gender    Hair  Height  \\\n",
       "0              12   03/23/2010   34  Tarrant     Black   Male   Black   6′ 1″   \n",
       "1        12 years      7/29/97   27   Harris     Black   Male   Black  5′ 10″   \n",
       "2              11   12/11/2003   28   Harris     White   Male   Brown  5′ 10″   \n",
       "3       4th Grade   12/02/2008   18     Rusk     White   Male  Blonde   6′ 0″   \n",
       "4               9   03/05/1998   18   Nueces  Hispanic   Male   Black   5′ 9″   \n",
       "\n",
       "  Weight   Eyes Native County Native State  \\\n",
       "0    233  Brown       Tarrant        Texas   \n",
       "1    176  Brown       Bastrop    Louisiana   \n",
       "2    202  Black      Monterey   California   \n",
       "3    250  Green  Gregg County        Texas   \n",
       "4    180  Brown        Nueces        Texas   \n",
       "\n",
       "                                       Occupation                     Record  \\\n",
       "0                         Prior Occupation\\nSales  Prior Prison Record\\nNone   \n",
       "1                       Prior Occupation\\nUnknown  Prior Prison Record\\nNone   \n",
       "2  Prior Occupation\\nhydro-water blaster, laborer  Prior Prison Record\\nNone   \n",
       "3                          Prior Occupation\\nNone  Prior Prison Record\\nNone   \n",
       "4                       Prior Occupation\\nLaborer  Prior Prison Record\\nNone   \n",
       "\n",
       "                                            Incident  \\\n",
       "0  Summary of Incident\\nIn the early morning hour...   \n",
       "1  Summary of Incident\\nOn July 29, 1997, in Hous...   \n",
       "2  Summary of Incident\\nOn 12/11/2001, in Harris ...   \n",
       "3  Summary of Incident\\nIn December 2008, Milam a...   \n",
       "4  Summary of Incident\\nOn 03/05/98, during the d...   \n",
       "\n",
       "                                       Co_defendants  \\\n",
       "0  Co-Defendants\\nRandy Ciebel, Tyron Thomas, Cha...   \n",
       "1                                Co-Defendants\\nNone   \n",
       "2                                Co-Defendants\\nNone   \n",
       "3                 Co-Defendants\\nJessica Bain Carson   \n",
       "4                                Co-Defendants\\nNone   \n",
       "\n",
       "                                  Victim_race_gender  \n",
       "0  Race and Gender of Victim\\nOne hispanic male, ...  \n",
       "1            Race and Gender of Victim\\nWhite female  \n",
       "2         Race and Gender of Victim\\nHispanic/Female  \n",
       "3            Race and Gender of Victim\\nWhite female  \n",
       "4         Race and Gender of Victim\\nHispanic female  "
      ]
     },
     "execution_count": 21,
     "metadata": {},
     "output_type": "execute_result"
    }
   ],
   "source": [
    "df.head()"
   ]
  },
  {
   "cell_type": "code",
   "execution_count": 29,
   "metadata": {},
   "outputs": [],
   "source": [
    "df['f_name'] = df['Name'].apply(lambda x: x.split(',')[-1])\n",
    "df['l_name'] = df['Name'].apply(lambda x: x.split(',')[0])"
   ]
  },
  {
   "cell_type": "code",
   "execution_count": 33,
   "metadata": {},
   "outputs": [
    {
     "name": "stdout",
     "output_type": "stream",
     "text": [
      "0    Rockwell\n",
      "1      Burton\n",
      "2       Gallo\n",
      "Name: l_name, dtype: object\n",
      "0       Kwame A.\n",
      "1     Arthur Lee\n",
      "2     Tomas Raul\n",
      "Name: f_name, dtype: object\n"
     ]
    }
   ],
   "source": [
    "print(df.l_name[:3],df.f_name[:3],sep='\\n')"
   ]
  },
  {
   "cell_type": "code",
   "execution_count": 36,
   "metadata": {},
   "outputs": [
    {
     "data": {
      "text/plain": [
       "array(['12', '12 years', '11', '4th Grade', '9', nan, '09', '10 years',\n",
       "       '8', '10', '9th Grade', '07', '7', '7th Grade', '11 years', '06',\n",
       "       '10th Grade', '12th Grade', '4 years', '8th Grade', 'GED',\n",
       "       '11th Grade', '08', 'Unknown', '10th grade', '12th grade', '7th',\n",
       "       '6', '11th grade', '4', '11th Grade/GED', '7th grade',\n",
       "       '10th Grade/GED'], dtype=object)"
      ]
     },
     "execution_count": 36,
     "metadata": {},
     "output_type": "execute_result"
    }
   ],
   "source": [
    "df['Education Level'].unique()"
   ]
  },
  {
   "cell_type": "code",
   "execution_count": 45,
   "metadata": {},
   "outputs": [],
   "source": [
    "df['Education Level'] = df['Education Level'].map(str)\n",
    "df['Education Level'] = df['Education Level'].map(lambda x:x.split(' ')[0])\n",
    "df['Education Level'] = df['Education Level'].apply(lambda x: x.replace('Unknown','nan'))\n",
    "df['Education Level'] = df['Education Level'].apply(lambda x: x.replace('th',''))\n",
    "df['Education Level'] = df['Education Level'].apply(lambda x: x.replace('th',''))\n",
    "df['Education Level'] = df['Education Level'].apply(lambda x: x.replace('07','7'))\n",
    "df['Education Level'] = df['Education Level'].apply(lambda x: x.replace('08','8'))\n",
    "df['Education Level'] = df['Education Level'].apply(lambda x: x.replace('09','9'))\n",
    "df['Education Level'] = df['Education Level'].apply(lambda x: x.replace('GED','11')) #assumption\n",
    "df['Education Level'] = df['Education Level'].map(float)"
   ]
  },
  {
   "cell_type": "code",
   "execution_count": 46,
   "metadata": {},
   "outputs": [
    {
     "data": {
      "text/plain": [
       "dtype('float64')"
      ]
     },
     "execution_count": 46,
     "metadata": {},
     "output_type": "execute_result"
    }
   ],
   "source": [
    "df['Education Level'].dtypes"
   ]
  },
  {
   "cell_type": "code",
   "execution_count": 51,
   "metadata": {},
   "outputs": [],
   "source": [
    "df['Received Date'] = df['Received Date'].apply(lambda x: x.replace('20174','2017')) #fix mistake in data entry"
   ]
  },
  {
   "cell_type": "code",
   "execution_count": 53,
   "metadata": {},
   "outputs": [],
   "source": [
    "df['Received Date'] = pd.to_datetime(df['Received Date'])"
   ]
  },
  {
   "cell_type": "code",
   "execution_count": 55,
   "metadata": {},
   "outputs": [],
   "source": [
    "df['received_year'] = pd.DatetimeIndex(df['Received Date']).year\n",
    "df['received_month'] = pd.DatetimeIndex(df['Received Date']).month\n",
    "df['received_day'] = pd.DatetimeIndex(df['Received Date']).day"
   ]
  },
  {
   "cell_type": "code",
   "execution_count": null,
   "metadata": {},
   "outputs": [],
   "source": []
  }
 ],
 "metadata": {
  "kernelspec": {
   "display_name": "Python 3",
   "language": "python",
   "name": "python3"
  },
  "language_info": {
   "codemirror_mode": {
    "name": "ipython",
    "version": 3
   },
   "file_extension": ".py",
   "mimetype": "text/x-python",
   "name": "python",
   "nbconvert_exporter": "python",
   "pygments_lexer": "ipython3",
   "version": "3.7.6"
  }
 },
 "nbformat": 4,
 "nbformat_minor": 4
}
