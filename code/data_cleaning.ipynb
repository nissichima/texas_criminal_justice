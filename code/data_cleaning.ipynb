{
 "cells": [
  {
   "cell_type": "code",
   "execution_count": 81,
   "metadata": {},
   "outputs": [],
   "source": [
    "import os\n",
    "import numpy as np\n",
    "import pandas as pd\n",
    "pd.set_option(\"max_columns\",100)\n",
    "pd.set_option(\"max_rows\",100)"
   ]
  },
  {
   "cell_type": "code",
   "execution_count": 86,
   "metadata": {},
   "outputs": [],
   "source": [
    "os.chdir('/Users/nissichima/Desktop/texas_criminal_justice')"
   ]
  },
  {
   "cell_type": "code",
   "execution_count": 82,
   "metadata": {},
   "outputs": [],
   "source": [
    "raw_data_path = \"datasets/inmates_on_deathrow.csv\""
   ]
  },
  {
   "cell_type": "code",
   "execution_count": 84,
   "metadata": {},
   "outputs": [
    {
     "data": {
      "text/plain": [
       "'/Users/nissichima/Desktop'"
      ]
     },
     "execution_count": 84,
     "metadata": {},
     "output_type": "execute_result"
    }
   ],
   "source": [
    "pwd"
   ]
  },
  {
   "cell_type": "code",
   "execution_count": 83,
   "metadata": {},
   "outputs": [
    {
     "ename": "FileNotFoundError",
     "evalue": "[Errno 2] File datasets/inmates_on_deathrow.csv does not exist: 'datasets/inmates_on_deathrow.csv'",
     "output_type": "error",
     "traceback": [
      "\u001b[0;31m---------------------------------------------------------------------------\u001b[0m",
      "\u001b[0;31mFileNotFoundError\u001b[0m                         Traceback (most recent call last)",
      "\u001b[0;32m<ipython-input-83-abdb714960bc>\u001b[0m in \u001b[0;36m<module>\u001b[0;34m\u001b[0m\n\u001b[0;32m----> 1\u001b[0;31m \u001b[0mdf\u001b[0m \u001b[0;34m=\u001b[0m \u001b[0mpd\u001b[0m\u001b[0;34m.\u001b[0m\u001b[0mread_csv\u001b[0m\u001b[0;34m(\u001b[0m\u001b[0mraw_data_path\u001b[0m\u001b[0;34m)\u001b[0m\u001b[0;34m.\u001b[0m\u001b[0mdrop\u001b[0m\u001b[0;34m(\u001b[0m\u001b[0;34m'Unnamed: 0'\u001b[0m\u001b[0;34m,\u001b[0m\u001b[0maxis\u001b[0m\u001b[0;34m=\u001b[0m\u001b[0;36m1\u001b[0m\u001b[0;34m)\u001b[0m\u001b[0;34m\u001b[0m\u001b[0;34m\u001b[0m\u001b[0m\n\u001b[0m",
      "\u001b[0;32m~/opt/anaconda3/lib/python3.7/site-packages/pandas/io/parsers.py\u001b[0m in \u001b[0;36mparser_f\u001b[0;34m(filepath_or_buffer, sep, delimiter, header, names, index_col, usecols, squeeze, prefix, mangle_dupe_cols, dtype, engine, converters, true_values, false_values, skipinitialspace, skiprows, skipfooter, nrows, na_values, keep_default_na, na_filter, verbose, skip_blank_lines, parse_dates, infer_datetime_format, keep_date_col, date_parser, dayfirst, cache_dates, iterator, chunksize, compression, thousands, decimal, lineterminator, quotechar, quoting, doublequote, escapechar, comment, encoding, dialect, error_bad_lines, warn_bad_lines, delim_whitespace, low_memory, memory_map, float_precision)\u001b[0m\n\u001b[1;32m    674\u001b[0m         )\n\u001b[1;32m    675\u001b[0m \u001b[0;34m\u001b[0m\u001b[0m\n\u001b[0;32m--> 676\u001b[0;31m         \u001b[0;32mreturn\u001b[0m \u001b[0m_read\u001b[0m\u001b[0;34m(\u001b[0m\u001b[0mfilepath_or_buffer\u001b[0m\u001b[0;34m,\u001b[0m \u001b[0mkwds\u001b[0m\u001b[0;34m)\u001b[0m\u001b[0;34m\u001b[0m\u001b[0;34m\u001b[0m\u001b[0m\n\u001b[0m\u001b[1;32m    677\u001b[0m \u001b[0;34m\u001b[0m\u001b[0m\n\u001b[1;32m    678\u001b[0m     \u001b[0mparser_f\u001b[0m\u001b[0;34m.\u001b[0m\u001b[0m__name__\u001b[0m \u001b[0;34m=\u001b[0m \u001b[0mname\u001b[0m\u001b[0;34m\u001b[0m\u001b[0;34m\u001b[0m\u001b[0m\n",
      "\u001b[0;32m~/opt/anaconda3/lib/python3.7/site-packages/pandas/io/parsers.py\u001b[0m in \u001b[0;36m_read\u001b[0;34m(filepath_or_buffer, kwds)\u001b[0m\n\u001b[1;32m    446\u001b[0m \u001b[0;34m\u001b[0m\u001b[0m\n\u001b[1;32m    447\u001b[0m     \u001b[0;31m# Create the parser.\u001b[0m\u001b[0;34m\u001b[0m\u001b[0;34m\u001b[0m\u001b[0;34m\u001b[0m\u001b[0m\n\u001b[0;32m--> 448\u001b[0;31m     \u001b[0mparser\u001b[0m \u001b[0;34m=\u001b[0m \u001b[0mTextFileReader\u001b[0m\u001b[0;34m(\u001b[0m\u001b[0mfp_or_buf\u001b[0m\u001b[0;34m,\u001b[0m \u001b[0;34m**\u001b[0m\u001b[0mkwds\u001b[0m\u001b[0;34m)\u001b[0m\u001b[0;34m\u001b[0m\u001b[0;34m\u001b[0m\u001b[0m\n\u001b[0m\u001b[1;32m    449\u001b[0m \u001b[0;34m\u001b[0m\u001b[0m\n\u001b[1;32m    450\u001b[0m     \u001b[0;32mif\u001b[0m \u001b[0mchunksize\u001b[0m \u001b[0;32mor\u001b[0m \u001b[0miterator\u001b[0m\u001b[0;34m:\u001b[0m\u001b[0;34m\u001b[0m\u001b[0;34m\u001b[0m\u001b[0m\n",
      "\u001b[0;32m~/opt/anaconda3/lib/python3.7/site-packages/pandas/io/parsers.py\u001b[0m in \u001b[0;36m__init__\u001b[0;34m(self, f, engine, **kwds)\u001b[0m\n\u001b[1;32m    878\u001b[0m             \u001b[0mself\u001b[0m\u001b[0;34m.\u001b[0m\u001b[0moptions\u001b[0m\u001b[0;34m[\u001b[0m\u001b[0;34m\"has_index_names\"\u001b[0m\u001b[0;34m]\u001b[0m \u001b[0;34m=\u001b[0m \u001b[0mkwds\u001b[0m\u001b[0;34m[\u001b[0m\u001b[0;34m\"has_index_names\"\u001b[0m\u001b[0;34m]\u001b[0m\u001b[0;34m\u001b[0m\u001b[0;34m\u001b[0m\u001b[0m\n\u001b[1;32m    879\u001b[0m \u001b[0;34m\u001b[0m\u001b[0m\n\u001b[0;32m--> 880\u001b[0;31m         \u001b[0mself\u001b[0m\u001b[0;34m.\u001b[0m\u001b[0m_make_engine\u001b[0m\u001b[0;34m(\u001b[0m\u001b[0mself\u001b[0m\u001b[0;34m.\u001b[0m\u001b[0mengine\u001b[0m\u001b[0;34m)\u001b[0m\u001b[0;34m\u001b[0m\u001b[0;34m\u001b[0m\u001b[0m\n\u001b[0m\u001b[1;32m    881\u001b[0m \u001b[0;34m\u001b[0m\u001b[0m\n\u001b[1;32m    882\u001b[0m     \u001b[0;32mdef\u001b[0m \u001b[0mclose\u001b[0m\u001b[0;34m(\u001b[0m\u001b[0mself\u001b[0m\u001b[0;34m)\u001b[0m\u001b[0;34m:\u001b[0m\u001b[0;34m\u001b[0m\u001b[0;34m\u001b[0m\u001b[0m\n",
      "\u001b[0;32m~/opt/anaconda3/lib/python3.7/site-packages/pandas/io/parsers.py\u001b[0m in \u001b[0;36m_make_engine\u001b[0;34m(self, engine)\u001b[0m\n\u001b[1;32m   1112\u001b[0m     \u001b[0;32mdef\u001b[0m \u001b[0m_make_engine\u001b[0m\u001b[0;34m(\u001b[0m\u001b[0mself\u001b[0m\u001b[0;34m,\u001b[0m \u001b[0mengine\u001b[0m\u001b[0;34m=\u001b[0m\u001b[0;34m\"c\"\u001b[0m\u001b[0;34m)\u001b[0m\u001b[0;34m:\u001b[0m\u001b[0;34m\u001b[0m\u001b[0;34m\u001b[0m\u001b[0m\n\u001b[1;32m   1113\u001b[0m         \u001b[0;32mif\u001b[0m \u001b[0mengine\u001b[0m \u001b[0;34m==\u001b[0m \u001b[0;34m\"c\"\u001b[0m\u001b[0;34m:\u001b[0m\u001b[0;34m\u001b[0m\u001b[0;34m\u001b[0m\u001b[0m\n\u001b[0;32m-> 1114\u001b[0;31m             \u001b[0mself\u001b[0m\u001b[0;34m.\u001b[0m\u001b[0m_engine\u001b[0m \u001b[0;34m=\u001b[0m \u001b[0mCParserWrapper\u001b[0m\u001b[0;34m(\u001b[0m\u001b[0mself\u001b[0m\u001b[0;34m.\u001b[0m\u001b[0mf\u001b[0m\u001b[0;34m,\u001b[0m \u001b[0;34m**\u001b[0m\u001b[0mself\u001b[0m\u001b[0;34m.\u001b[0m\u001b[0moptions\u001b[0m\u001b[0;34m)\u001b[0m\u001b[0;34m\u001b[0m\u001b[0;34m\u001b[0m\u001b[0m\n\u001b[0m\u001b[1;32m   1115\u001b[0m         \u001b[0;32melse\u001b[0m\u001b[0;34m:\u001b[0m\u001b[0;34m\u001b[0m\u001b[0;34m\u001b[0m\u001b[0m\n\u001b[1;32m   1116\u001b[0m             \u001b[0;32mif\u001b[0m \u001b[0mengine\u001b[0m \u001b[0;34m==\u001b[0m \u001b[0;34m\"python\"\u001b[0m\u001b[0;34m:\u001b[0m\u001b[0;34m\u001b[0m\u001b[0;34m\u001b[0m\u001b[0m\n",
      "\u001b[0;32m~/opt/anaconda3/lib/python3.7/site-packages/pandas/io/parsers.py\u001b[0m in \u001b[0;36m__init__\u001b[0;34m(self, src, **kwds)\u001b[0m\n\u001b[1;32m   1889\u001b[0m         \u001b[0mkwds\u001b[0m\u001b[0;34m[\u001b[0m\u001b[0;34m\"usecols\"\u001b[0m\u001b[0;34m]\u001b[0m \u001b[0;34m=\u001b[0m \u001b[0mself\u001b[0m\u001b[0;34m.\u001b[0m\u001b[0musecols\u001b[0m\u001b[0;34m\u001b[0m\u001b[0;34m\u001b[0m\u001b[0m\n\u001b[1;32m   1890\u001b[0m \u001b[0;34m\u001b[0m\u001b[0m\n\u001b[0;32m-> 1891\u001b[0;31m         \u001b[0mself\u001b[0m\u001b[0;34m.\u001b[0m\u001b[0m_reader\u001b[0m \u001b[0;34m=\u001b[0m \u001b[0mparsers\u001b[0m\u001b[0;34m.\u001b[0m\u001b[0mTextReader\u001b[0m\u001b[0;34m(\u001b[0m\u001b[0msrc\u001b[0m\u001b[0;34m,\u001b[0m \u001b[0;34m**\u001b[0m\u001b[0mkwds\u001b[0m\u001b[0;34m)\u001b[0m\u001b[0;34m\u001b[0m\u001b[0;34m\u001b[0m\u001b[0m\n\u001b[0m\u001b[1;32m   1892\u001b[0m         \u001b[0mself\u001b[0m\u001b[0;34m.\u001b[0m\u001b[0munnamed_cols\u001b[0m \u001b[0;34m=\u001b[0m \u001b[0mself\u001b[0m\u001b[0;34m.\u001b[0m\u001b[0m_reader\u001b[0m\u001b[0;34m.\u001b[0m\u001b[0munnamed_cols\u001b[0m\u001b[0;34m\u001b[0m\u001b[0;34m\u001b[0m\u001b[0m\n\u001b[1;32m   1893\u001b[0m \u001b[0;34m\u001b[0m\u001b[0m\n",
      "\u001b[0;32mpandas/_libs/parsers.pyx\u001b[0m in \u001b[0;36mpandas._libs.parsers.TextReader.__cinit__\u001b[0;34m()\u001b[0m\n",
      "\u001b[0;32mpandas/_libs/parsers.pyx\u001b[0m in \u001b[0;36mpandas._libs.parsers.TextReader._setup_parser_source\u001b[0;34m()\u001b[0m\n",
      "\u001b[0;31mFileNotFoundError\u001b[0m: [Errno 2] File datasets/inmates_on_deathrow.csv does not exist: 'datasets/inmates_on_deathrow.csv'"
     ]
    }
   ],
   "source": [
    "df = pd.read_csv(raw_data_path).drop('Unnamed: 0',axis=1)"
   ]
  },
  {
   "cell_type": "code",
   "execution_count": 76,
   "metadata": {},
   "outputs": [
    {
     "data": {
      "text/plain": [
       "Index(['name', 'tdcj #', 'dob', 'received date', 'received age',\n",
       "       'education level', 'offense date', 'age', 'county', 'race', 'gender',\n",
       "       'hair', 'height', 'weight', 'eyes', 'native county', 'native state',\n",
       "       'occupation', 'record', 'incident', 'co_defendants',\n",
       "       'victim_race_gender', 'f_name', 'l_name', 'received_year',\n",
       "       'received_month', 'received_day', 'dob_year', 'dob_month', 'dob_day',\n",
       "       'off_date_year', 'off_date_month', 'off_date_day', 'county_code'],\n",
       "      dtype='object')"
      ]
     },
     "execution_count": 76,
     "metadata": {},
     "output_type": "execute_result"
    }
   ],
   "source": [
    "df.columns"
   ]
  },
  {
   "cell_type": "code",
   "execution_count": 77,
   "metadata": {},
   "outputs": [
    {
     "data": {
      "text/plain": [
       "name                          object\n",
       "tdcj #                         int64\n",
       "dob                   datetime64[ns]\n",
       "received date         datetime64[ns]\n",
       "received age                   int64\n",
       "education level              float64\n",
       "offense date          datetime64[ns]\n",
       "age                            int64\n",
       "county                        object\n",
       "race                          object\n",
       "gender                        object\n",
       "hair                          object\n",
       "height                        object\n",
       "weight                       float64\n",
       "eyes                          object\n",
       "native county                 object\n",
       "native state                  object\n",
       "occupation                    object\n",
       "record                        object\n",
       "incident                      object\n",
       "co_defendants                 object\n",
       "victim_race_gender            object\n",
       "f_name                        object\n",
       "l_name                        object\n",
       "received_year                  int64\n",
       "received_month                 int64\n",
       "received_day                   int64\n",
       "dob_year                       int64\n",
       "dob_month                      int64\n",
       "dob_day                        int64\n",
       "off_date_year                  int64\n",
       "off_date_month                 int64\n",
       "off_date_day                   int64\n",
       "county_code                    int64\n",
       "dtype: object"
      ]
     },
     "execution_count": 77,
     "metadata": {},
     "output_type": "execute_result"
    }
   ],
   "source": [
    "df.dtypes"
   ]
  },
  {
   "cell_type": "code",
   "execution_count": 78,
   "metadata": {},
   "outputs": [
    {
     "data": {
      "text/html": [
       "<div>\n",
       "<style scoped>\n",
       "    .dataframe tbody tr th:only-of-type {\n",
       "        vertical-align: middle;\n",
       "    }\n",
       "\n",
       "    .dataframe tbody tr th {\n",
       "        vertical-align: top;\n",
       "    }\n",
       "\n",
       "    .dataframe thead th {\n",
       "        text-align: right;\n",
       "    }\n",
       "</style>\n",
       "<table border=\"1\" class=\"dataframe\">\n",
       "  <thead>\n",
       "    <tr style=\"text-align: right;\">\n",
       "      <th></th>\n",
       "      <th>name</th>\n",
       "      <th>tdcj #</th>\n",
       "      <th>dob</th>\n",
       "      <th>received date</th>\n",
       "      <th>received age</th>\n",
       "      <th>education level</th>\n",
       "      <th>offense date</th>\n",
       "      <th>age</th>\n",
       "      <th>county</th>\n",
       "      <th>race</th>\n",
       "      <th>gender</th>\n",
       "      <th>hair</th>\n",
       "      <th>height</th>\n",
       "      <th>weight</th>\n",
       "      <th>eyes</th>\n",
       "      <th>native county</th>\n",
       "      <th>native state</th>\n",
       "      <th>occupation</th>\n",
       "      <th>record</th>\n",
       "      <th>incident</th>\n",
       "      <th>co_defendants</th>\n",
       "      <th>victim_race_gender</th>\n",
       "      <th>f_name</th>\n",
       "      <th>l_name</th>\n",
       "      <th>received_year</th>\n",
       "      <th>received_month</th>\n",
       "      <th>received_day</th>\n",
       "      <th>dob_year</th>\n",
       "      <th>dob_month</th>\n",
       "      <th>dob_day</th>\n",
       "      <th>off_date_year</th>\n",
       "      <th>off_date_month</th>\n",
       "      <th>off_date_day</th>\n",
       "      <th>county_code</th>\n",
       "    </tr>\n",
       "  </thead>\n",
       "  <tbody>\n",
       "    <tr>\n",
       "      <th>0</th>\n",
       "      <td>Rockwell, Kwame A.</td>\n",
       "      <td>999570</td>\n",
       "      <td>1975-12-07</td>\n",
       "      <td>2012-01-30</td>\n",
       "      <td>36</td>\n",
       "      <td>12.0</td>\n",
       "      <td>2010-03-23</td>\n",
       "      <td>34</td>\n",
       "      <td>Tarrant</td>\n",
       "      <td>Black</td>\n",
       "      <td>Male</td>\n",
       "      <td>Black</td>\n",
       "      <td>6′ 1″</td>\n",
       "      <td>233.0</td>\n",
       "      <td>Brown</td>\n",
       "      <td>Tarrant</td>\n",
       "      <td>Texas</td>\n",
       "      <td>[Sales]</td>\n",
       "      <td>[None]</td>\n",
       "      <td>Summary of Incident\\nIn the early morning hour...</td>\n",
       "      <td>[Randy Ciebel, Tyron Thomas, Chance Smith, and...</td>\n",
       "      <td>[One hispanic male, one white male]</td>\n",
       "      <td>Kwame A.</td>\n",
       "      <td>Rockwell</td>\n",
       "      <td>2012</td>\n",
       "      <td>1</td>\n",
       "      <td>30</td>\n",
       "      <td>1975</td>\n",
       "      <td>12</td>\n",
       "      <td>7</td>\n",
       "      <td>2010</td>\n",
       "      <td>3</td>\n",
       "      <td>23</td>\n",
       "      <td>48439</td>\n",
       "    </tr>\n",
       "    <tr>\n",
       "      <th>1</th>\n",
       "      <td>Burton, Arthur Lee</td>\n",
       "      <td>999283</td>\n",
       "      <td>2070-03-29</td>\n",
       "      <td>1998-09-16</td>\n",
       "      <td>28</td>\n",
       "      <td>12.0</td>\n",
       "      <td>1997-07-29</td>\n",
       "      <td>27</td>\n",
       "      <td>Harris</td>\n",
       "      <td>Black</td>\n",
       "      <td>Male</td>\n",
       "      <td>Black</td>\n",
       "      <td>5′ 10″</td>\n",
       "      <td>176.0</td>\n",
       "      <td>Brown</td>\n",
       "      <td>Bastrop</td>\n",
       "      <td>Louisiana</td>\n",
       "      <td>[Unknown]</td>\n",
       "      <td>[None]</td>\n",
       "      <td>Summary of Incident\\nOn July 29, 1997, in Hous...</td>\n",
       "      <td>[None]</td>\n",
       "      <td>[White female]</td>\n",
       "      <td>Arthur Lee</td>\n",
       "      <td>Burton</td>\n",
       "      <td>1998</td>\n",
       "      <td>9</td>\n",
       "      <td>16</td>\n",
       "      <td>2070</td>\n",
       "      <td>3</td>\n",
       "      <td>29</td>\n",
       "      <td>1997</td>\n",
       "      <td>7</td>\n",
       "      <td>29</td>\n",
       "      <td>48201</td>\n",
       "    </tr>\n",
       "    <tr>\n",
       "      <th>2</th>\n",
       "      <td>Gallo, Tomas Raul</td>\n",
       "      <td>999469</td>\n",
       "      <td>1975-03-01</td>\n",
       "      <td>2004-02-24</td>\n",
       "      <td>28</td>\n",
       "      <td>11.0</td>\n",
       "      <td>2003-12-11</td>\n",
       "      <td>28</td>\n",
       "      <td>Harris</td>\n",
       "      <td>White</td>\n",
       "      <td>Male</td>\n",
       "      <td>Brown</td>\n",
       "      <td>5′ 10″</td>\n",
       "      <td>202.0</td>\n",
       "      <td>Black</td>\n",
       "      <td>Monterey</td>\n",
       "      <td>California</td>\n",
       "      <td>[hydro-water blaster, laborer]</td>\n",
       "      <td>[None]</td>\n",
       "      <td>Summary of Incident\\nOn 12/11/2001, in Harris ...</td>\n",
       "      <td>[None]</td>\n",
       "      <td>[Hispanic/Female]</td>\n",
       "      <td>Tomas Raul</td>\n",
       "      <td>Gallo</td>\n",
       "      <td>2004</td>\n",
       "      <td>2</td>\n",
       "      <td>24</td>\n",
       "      <td>1975</td>\n",
       "      <td>3</td>\n",
       "      <td>1</td>\n",
       "      <td>2003</td>\n",
       "      <td>12</td>\n",
       "      <td>11</td>\n",
       "      <td>48201</td>\n",
       "    </tr>\n",
       "    <tr>\n",
       "      <th>3</th>\n",
       "      <td>Milam, Blaine Keith</td>\n",
       "      <td>999558</td>\n",
       "      <td>1989-12-12</td>\n",
       "      <td>2010-06-11</td>\n",
       "      <td>20</td>\n",
       "      <td>4.0</td>\n",
       "      <td>2008-12-02</td>\n",
       "      <td>18</td>\n",
       "      <td>Rusk</td>\n",
       "      <td>White</td>\n",
       "      <td>Male</td>\n",
       "      <td>Blonde</td>\n",
       "      <td>6′ 0″</td>\n",
       "      <td>250.0</td>\n",
       "      <td>Green</td>\n",
       "      <td>Gregg County</td>\n",
       "      <td>Texas</td>\n",
       "      <td>[None]</td>\n",
       "      <td>[None]</td>\n",
       "      <td>Summary of Incident\\nIn December 2008, Milam a...</td>\n",
       "      <td>[Jessica Bain Carson]</td>\n",
       "      <td>[White female]</td>\n",
       "      <td>Blaine Keith</td>\n",
       "      <td>Milam</td>\n",
       "      <td>2010</td>\n",
       "      <td>6</td>\n",
       "      <td>11</td>\n",
       "      <td>1989</td>\n",
       "      <td>12</td>\n",
       "      <td>12</td>\n",
       "      <td>2008</td>\n",
       "      <td>12</td>\n",
       "      <td>2</td>\n",
       "      <td>48401</td>\n",
       "    </tr>\n",
       "    <tr>\n",
       "      <th>4</th>\n",
       "      <td>Vasquez, Richard</td>\n",
       "      <td>999319</td>\n",
       "      <td>1979-04-17</td>\n",
       "      <td>1999-06-24</td>\n",
       "      <td>20</td>\n",
       "      <td>9.0</td>\n",
       "      <td>1998-03-05</td>\n",
       "      <td>18</td>\n",
       "      <td>Nueces</td>\n",
       "      <td>Hispanic</td>\n",
       "      <td>Male</td>\n",
       "      <td>Black</td>\n",
       "      <td>5′ 9″</td>\n",
       "      <td>180.0</td>\n",
       "      <td>Brown</td>\n",
       "      <td>Nueces</td>\n",
       "      <td>Texas</td>\n",
       "      <td>[Laborer]</td>\n",
       "      <td>[None]</td>\n",
       "      <td>Summary of Incident\\nOn 03/05/98, during the d...</td>\n",
       "      <td>[None]</td>\n",
       "      <td>[Hispanic female]</td>\n",
       "      <td>Richard</td>\n",
       "      <td>Vasquez</td>\n",
       "      <td>1999</td>\n",
       "      <td>6</td>\n",
       "      <td>24</td>\n",
       "      <td>1979</td>\n",
       "      <td>4</td>\n",
       "      <td>17</td>\n",
       "      <td>1998</td>\n",
       "      <td>3</td>\n",
       "      <td>5</td>\n",
       "      <td>48355</td>\n",
       "    </tr>\n",
       "  </tbody>\n",
       "</table>\n",
       "</div>"
      ],
      "text/plain": [
       "                  name  tdcj #        dob received date  received age  \\\n",
       "0   Rockwell, Kwame A.  999570 1975-12-07    2012-01-30            36   \n",
       "1   Burton, Arthur Lee  999283 2070-03-29    1998-09-16            28   \n",
       "2    Gallo, Tomas Raul  999469 1975-03-01    2004-02-24            28   \n",
       "3  Milam, Blaine Keith  999558 1989-12-12    2010-06-11            20   \n",
       "4     Vasquez, Richard  999319 1979-04-17    1999-06-24            20   \n",
       "\n",
       "   education level offense date  age   county      race gender    hair  \\\n",
       "0             12.0   2010-03-23   34  Tarrant     Black   Male   Black   \n",
       "1             12.0   1997-07-29   27   Harris     Black   Male   Black   \n",
       "2             11.0   2003-12-11   28   Harris     White   Male   Brown   \n",
       "3              4.0   2008-12-02   18     Rusk     White   Male  Blonde   \n",
       "4              9.0   1998-03-05   18   Nueces  Hispanic   Male   Black   \n",
       "\n",
       "   height  weight   eyes native county native state  \\\n",
       "0   6′ 1″   233.0  Brown       Tarrant        Texas   \n",
       "1  5′ 10″   176.0  Brown       Bastrop    Louisiana   \n",
       "2  5′ 10″   202.0  Black      Monterey   California   \n",
       "3   6′ 0″   250.0  Green  Gregg County        Texas   \n",
       "4   5′ 9″   180.0  Brown        Nueces        Texas   \n",
       "\n",
       "                       occupation  record  \\\n",
       "0                         [Sales]  [None]   \n",
       "1                       [Unknown]  [None]   \n",
       "2  [hydro-water blaster, laborer]  [None]   \n",
       "3                          [None]  [None]   \n",
       "4                       [Laborer]  [None]   \n",
       "\n",
       "                                            incident  \\\n",
       "0  Summary of Incident\\nIn the early morning hour...   \n",
       "1  Summary of Incident\\nOn July 29, 1997, in Hous...   \n",
       "2  Summary of Incident\\nOn 12/11/2001, in Harris ...   \n",
       "3  Summary of Incident\\nIn December 2008, Milam a...   \n",
       "4  Summary of Incident\\nOn 03/05/98, during the d...   \n",
       "\n",
       "                                       co_defendants  \\\n",
       "0  [Randy Ciebel, Tyron Thomas, Chance Smith, and...   \n",
       "1                                             [None]   \n",
       "2                                             [None]   \n",
       "3                              [Jessica Bain Carson]   \n",
       "4                                             [None]   \n",
       "\n",
       "                    victim_race_gender         f_name    l_name  \\\n",
       "0  [One hispanic male, one white male]       Kwame A.  Rockwell   \n",
       "1                       [White female]     Arthur Lee    Burton   \n",
       "2                    [Hispanic/Female]     Tomas Raul     Gallo   \n",
       "3                       [White female]   Blaine Keith     Milam   \n",
       "4                    [Hispanic female]        Richard   Vasquez   \n",
       "\n",
       "   received_year  received_month  received_day  dob_year  dob_month  dob_day  \\\n",
       "0           2012               1            30      1975         12        7   \n",
       "1           1998               9            16      2070          3       29   \n",
       "2           2004               2            24      1975          3        1   \n",
       "3           2010               6            11      1989         12       12   \n",
       "4           1999               6            24      1979          4       17   \n",
       "\n",
       "   off_date_year  off_date_month  off_date_day  county_code  \n",
       "0           2010               3            23        48439  \n",
       "1           1997               7            29        48201  \n",
       "2           2003              12            11        48201  \n",
       "3           2008              12             2        48401  \n",
       "4           1998               3             5        48355  "
      ]
     },
     "execution_count": 78,
     "metadata": {},
     "output_type": "execute_result"
    }
   ],
   "source": [
    "df.head()"
   ]
  },
  {
   "cell_type": "code",
   "execution_count": 79,
   "metadata": {},
   "outputs": [
    {
     "ename": "KeyError",
     "evalue": "'Name'",
     "output_type": "error",
     "traceback": [
      "\u001b[0;31m---------------------------------------------------------------------------\u001b[0m",
      "\u001b[0;31mKeyError\u001b[0m                                  Traceback (most recent call last)",
      "\u001b[0;32m~/opt/anaconda3/lib/python3.7/site-packages/pandas/core/indexes/base.py\u001b[0m in \u001b[0;36mget_loc\u001b[0;34m(self, key, method, tolerance)\u001b[0m\n\u001b[1;32m   2645\u001b[0m             \u001b[0;32mtry\u001b[0m\u001b[0;34m:\u001b[0m\u001b[0;34m\u001b[0m\u001b[0;34m\u001b[0m\u001b[0m\n\u001b[0;32m-> 2646\u001b[0;31m                 \u001b[0;32mreturn\u001b[0m \u001b[0mself\u001b[0m\u001b[0;34m.\u001b[0m\u001b[0m_engine\u001b[0m\u001b[0;34m.\u001b[0m\u001b[0mget_loc\u001b[0m\u001b[0;34m(\u001b[0m\u001b[0mkey\u001b[0m\u001b[0;34m)\u001b[0m\u001b[0;34m\u001b[0m\u001b[0;34m\u001b[0m\u001b[0m\n\u001b[0m\u001b[1;32m   2647\u001b[0m             \u001b[0;32mexcept\u001b[0m \u001b[0mKeyError\u001b[0m\u001b[0;34m:\u001b[0m\u001b[0;34m\u001b[0m\u001b[0;34m\u001b[0m\u001b[0m\n",
      "\u001b[0;32mpandas/_libs/index.pyx\u001b[0m in \u001b[0;36mpandas._libs.index.IndexEngine.get_loc\u001b[0;34m()\u001b[0m\n",
      "\u001b[0;32mpandas/_libs/index.pyx\u001b[0m in \u001b[0;36mpandas._libs.index.IndexEngine.get_loc\u001b[0;34m()\u001b[0m\n",
      "\u001b[0;32mpandas/_libs/hashtable_class_helper.pxi\u001b[0m in \u001b[0;36mpandas._libs.hashtable.PyObjectHashTable.get_item\u001b[0;34m()\u001b[0m\n",
      "\u001b[0;32mpandas/_libs/hashtable_class_helper.pxi\u001b[0m in \u001b[0;36mpandas._libs.hashtable.PyObjectHashTable.get_item\u001b[0;34m()\u001b[0m\n",
      "\u001b[0;31mKeyError\u001b[0m: 'Name'",
      "\nDuring handling of the above exception, another exception occurred:\n",
      "\u001b[0;31mKeyError\u001b[0m                                  Traceback (most recent call last)",
      "\u001b[0;32m<ipython-input-79-0d5d93398822>\u001b[0m in \u001b[0;36m<module>\u001b[0;34m\u001b[0m\n\u001b[0;32m----> 1\u001b[0;31m \u001b[0mdf\u001b[0m\u001b[0;34m[\u001b[0m\u001b[0;34m'f_name'\u001b[0m\u001b[0;34m]\u001b[0m \u001b[0;34m=\u001b[0m \u001b[0mdf\u001b[0m\u001b[0;34m[\u001b[0m\u001b[0;34m'Name'\u001b[0m\u001b[0;34m]\u001b[0m\u001b[0;34m.\u001b[0m\u001b[0mapply\u001b[0m\u001b[0;34m(\u001b[0m\u001b[0;32mlambda\u001b[0m \u001b[0mx\u001b[0m\u001b[0;34m:\u001b[0m \u001b[0mx\u001b[0m\u001b[0;34m.\u001b[0m\u001b[0msplit\u001b[0m\u001b[0;34m(\u001b[0m\u001b[0;34m','\u001b[0m\u001b[0;34m)\u001b[0m\u001b[0;34m[\u001b[0m\u001b[0;34m-\u001b[0m\u001b[0;36m1\u001b[0m\u001b[0;34m]\u001b[0m\u001b[0;34m)\u001b[0m\u001b[0;34m\u001b[0m\u001b[0;34m\u001b[0m\u001b[0m\n\u001b[0m\u001b[1;32m      2\u001b[0m \u001b[0mdf\u001b[0m\u001b[0;34m[\u001b[0m\u001b[0;34m'l_name'\u001b[0m\u001b[0;34m]\u001b[0m \u001b[0;34m=\u001b[0m \u001b[0mdf\u001b[0m\u001b[0;34m[\u001b[0m\u001b[0;34m'Name'\u001b[0m\u001b[0;34m]\u001b[0m\u001b[0;34m.\u001b[0m\u001b[0mapply\u001b[0m\u001b[0;34m(\u001b[0m\u001b[0;32mlambda\u001b[0m \u001b[0mx\u001b[0m\u001b[0;34m:\u001b[0m \u001b[0mx\u001b[0m\u001b[0;34m.\u001b[0m\u001b[0msplit\u001b[0m\u001b[0;34m(\u001b[0m\u001b[0;34m','\u001b[0m\u001b[0;34m)\u001b[0m\u001b[0;34m[\u001b[0m\u001b[0;36m0\u001b[0m\u001b[0;34m]\u001b[0m\u001b[0;34m)\u001b[0m\u001b[0;34m\u001b[0m\u001b[0;34m\u001b[0m\u001b[0m\n",
      "\u001b[0;32m~/opt/anaconda3/lib/python3.7/site-packages/pandas/core/frame.py\u001b[0m in \u001b[0;36m__getitem__\u001b[0;34m(self, key)\u001b[0m\n\u001b[1;32m   2798\u001b[0m             \u001b[0;32mif\u001b[0m \u001b[0mself\u001b[0m\u001b[0;34m.\u001b[0m\u001b[0mcolumns\u001b[0m\u001b[0;34m.\u001b[0m\u001b[0mnlevels\u001b[0m \u001b[0;34m>\u001b[0m \u001b[0;36m1\u001b[0m\u001b[0;34m:\u001b[0m\u001b[0;34m\u001b[0m\u001b[0;34m\u001b[0m\u001b[0m\n\u001b[1;32m   2799\u001b[0m                 \u001b[0;32mreturn\u001b[0m \u001b[0mself\u001b[0m\u001b[0;34m.\u001b[0m\u001b[0m_getitem_multilevel\u001b[0m\u001b[0;34m(\u001b[0m\u001b[0mkey\u001b[0m\u001b[0;34m)\u001b[0m\u001b[0;34m\u001b[0m\u001b[0;34m\u001b[0m\u001b[0m\n\u001b[0;32m-> 2800\u001b[0;31m             \u001b[0mindexer\u001b[0m \u001b[0;34m=\u001b[0m \u001b[0mself\u001b[0m\u001b[0;34m.\u001b[0m\u001b[0mcolumns\u001b[0m\u001b[0;34m.\u001b[0m\u001b[0mget_loc\u001b[0m\u001b[0;34m(\u001b[0m\u001b[0mkey\u001b[0m\u001b[0;34m)\u001b[0m\u001b[0;34m\u001b[0m\u001b[0;34m\u001b[0m\u001b[0m\n\u001b[0m\u001b[1;32m   2801\u001b[0m             \u001b[0;32mif\u001b[0m \u001b[0mis_integer\u001b[0m\u001b[0;34m(\u001b[0m\u001b[0mindexer\u001b[0m\u001b[0;34m)\u001b[0m\u001b[0;34m:\u001b[0m\u001b[0;34m\u001b[0m\u001b[0;34m\u001b[0m\u001b[0m\n\u001b[1;32m   2802\u001b[0m                 \u001b[0mindexer\u001b[0m \u001b[0;34m=\u001b[0m \u001b[0;34m[\u001b[0m\u001b[0mindexer\u001b[0m\u001b[0;34m]\u001b[0m\u001b[0;34m\u001b[0m\u001b[0;34m\u001b[0m\u001b[0m\n",
      "\u001b[0;32m~/opt/anaconda3/lib/python3.7/site-packages/pandas/core/indexes/base.py\u001b[0m in \u001b[0;36mget_loc\u001b[0;34m(self, key, method, tolerance)\u001b[0m\n\u001b[1;32m   2646\u001b[0m                 \u001b[0;32mreturn\u001b[0m \u001b[0mself\u001b[0m\u001b[0;34m.\u001b[0m\u001b[0m_engine\u001b[0m\u001b[0;34m.\u001b[0m\u001b[0mget_loc\u001b[0m\u001b[0;34m(\u001b[0m\u001b[0mkey\u001b[0m\u001b[0;34m)\u001b[0m\u001b[0;34m\u001b[0m\u001b[0;34m\u001b[0m\u001b[0m\n\u001b[1;32m   2647\u001b[0m             \u001b[0;32mexcept\u001b[0m \u001b[0mKeyError\u001b[0m\u001b[0;34m:\u001b[0m\u001b[0;34m\u001b[0m\u001b[0;34m\u001b[0m\u001b[0m\n\u001b[0;32m-> 2648\u001b[0;31m                 \u001b[0;32mreturn\u001b[0m \u001b[0mself\u001b[0m\u001b[0;34m.\u001b[0m\u001b[0m_engine\u001b[0m\u001b[0;34m.\u001b[0m\u001b[0mget_loc\u001b[0m\u001b[0;34m(\u001b[0m\u001b[0mself\u001b[0m\u001b[0;34m.\u001b[0m\u001b[0m_maybe_cast_indexer\u001b[0m\u001b[0;34m(\u001b[0m\u001b[0mkey\u001b[0m\u001b[0;34m)\u001b[0m\u001b[0;34m)\u001b[0m\u001b[0;34m\u001b[0m\u001b[0;34m\u001b[0m\u001b[0m\n\u001b[0m\u001b[1;32m   2649\u001b[0m         \u001b[0mindexer\u001b[0m \u001b[0;34m=\u001b[0m \u001b[0mself\u001b[0m\u001b[0;34m.\u001b[0m\u001b[0mget_indexer\u001b[0m\u001b[0;34m(\u001b[0m\u001b[0;34m[\u001b[0m\u001b[0mkey\u001b[0m\u001b[0;34m]\u001b[0m\u001b[0;34m,\u001b[0m \u001b[0mmethod\u001b[0m\u001b[0;34m=\u001b[0m\u001b[0mmethod\u001b[0m\u001b[0;34m,\u001b[0m \u001b[0mtolerance\u001b[0m\u001b[0;34m=\u001b[0m\u001b[0mtolerance\u001b[0m\u001b[0;34m)\u001b[0m\u001b[0;34m\u001b[0m\u001b[0;34m\u001b[0m\u001b[0m\n\u001b[1;32m   2650\u001b[0m         \u001b[0;32mif\u001b[0m \u001b[0mindexer\u001b[0m\u001b[0;34m.\u001b[0m\u001b[0mndim\u001b[0m \u001b[0;34m>\u001b[0m \u001b[0;36m1\u001b[0m \u001b[0;32mor\u001b[0m \u001b[0mindexer\u001b[0m\u001b[0;34m.\u001b[0m\u001b[0msize\u001b[0m \u001b[0;34m>\u001b[0m \u001b[0;36m1\u001b[0m\u001b[0;34m:\u001b[0m\u001b[0;34m\u001b[0m\u001b[0;34m\u001b[0m\u001b[0m\n",
      "\u001b[0;32mpandas/_libs/index.pyx\u001b[0m in \u001b[0;36mpandas._libs.index.IndexEngine.get_loc\u001b[0;34m()\u001b[0m\n",
      "\u001b[0;32mpandas/_libs/index.pyx\u001b[0m in \u001b[0;36mpandas._libs.index.IndexEngine.get_loc\u001b[0;34m()\u001b[0m\n",
      "\u001b[0;32mpandas/_libs/hashtable_class_helper.pxi\u001b[0m in \u001b[0;36mpandas._libs.hashtable.PyObjectHashTable.get_item\u001b[0;34m()\u001b[0m\n",
      "\u001b[0;32mpandas/_libs/hashtable_class_helper.pxi\u001b[0m in \u001b[0;36mpandas._libs.hashtable.PyObjectHashTable.get_item\u001b[0;34m()\u001b[0m\n",
      "\u001b[0;31mKeyError\u001b[0m: 'Name'"
     ]
    }
   ],
   "source": [
    "df['f_name'] = df['Name'].apply(lambda x: x.split(',')[-1])\n",
    "df['l_name'] = df['Name'].apply(lambda x: x.split(',')[0])"
   ]
  },
  {
   "cell_type": "code",
   "execution_count": 80,
   "metadata": {},
   "outputs": [
    {
     "name": "stdout",
     "output_type": "stream",
     "text": [
      "0    Rockwell\n",
      "1      Burton\n",
      "2       Gallo\n",
      "Name: l_name, dtype: object\n",
      "0       Kwame A.\n",
      "1     Arthur Lee\n",
      "2     Tomas Raul\n",
      "Name: f_name, dtype: object\n"
     ]
    }
   ],
   "source": [
    "print(df.l_name[:3],df.f_name[:3],sep='\\n')"
   ]
  },
  {
   "cell_type": "code",
   "execution_count": 10,
   "metadata": {},
   "outputs": [
    {
     "data": {
      "text/plain": [
       "array(['12', '12 years', '11', '4th Grade', '9', nan, '09', '10 years',\n",
       "       '8', '10', '9th Grade', '07', '7', '7th Grade', '11 years', '06',\n",
       "       '10th Grade', '12th Grade', '4 years', '8th Grade', 'GED',\n",
       "       '11th Grade', '08', 'Unknown', '10th grade', '12th grade', '7th',\n",
       "       '6', '11th grade', '4', '11th Grade/GED', '7th grade',\n",
       "       '10th Grade/GED'], dtype=object)"
      ]
     },
     "execution_count": 10,
     "metadata": {},
     "output_type": "execute_result"
    }
   ],
   "source": [
    "df['Education Level'].unique()"
   ]
  },
  {
   "cell_type": "code",
   "execution_count": 11,
   "metadata": {},
   "outputs": [],
   "source": [
    "df['Education Level'] = df['Education Level'].map(str)\n",
    "df['Education Level'] = df['Education Level'].map(lambda x:x.split(' ')[0])\n",
    "df['Education Level'] = df['Education Level'].apply(lambda x: x.replace('Unknown','nan'))\n",
    "df['Education Level'] = df['Education Level'].apply(lambda x: x.replace('th',''))\n",
    "df['Education Level'] = df['Education Level'].apply(lambda x: x.replace('th',''))\n",
    "df['Education Level'] = df['Education Level'].apply(lambda x: x.replace('07','7'))\n",
    "df['Education Level'] = df['Education Level'].apply(lambda x: x.replace('08','8'))\n",
    "df['Education Level'] = df['Education Level'].apply(lambda x: x.replace('09','9'))\n",
    "df['Education Level'] = df['Education Level'].apply(lambda x: x.replace('GED','11')) #assumption\n",
    "df['Education Level'] = df['Education Level'].map(float)"
   ]
  },
  {
   "cell_type": "code",
   "execution_count": 12,
   "metadata": {},
   "outputs": [
    {
     "data": {
      "text/plain": [
       "dtype('float64')"
      ]
     },
     "execution_count": 12,
     "metadata": {},
     "output_type": "execute_result"
    }
   ],
   "source": [
    "df['Education Level'].dtypes"
   ]
  },
  {
   "cell_type": "code",
   "execution_count": 13,
   "metadata": {},
   "outputs": [],
   "source": [
    "df['Received Date'] = df['Received Date'].apply(lambda x: x.replace('20174','2017')) #fix mistake in data entry"
   ]
  },
  {
   "cell_type": "code",
   "execution_count": 14,
   "metadata": {},
   "outputs": [],
   "source": [
    "df['Received Date'] = pd.to_datetime(df['Received Date'])"
   ]
  },
  {
   "cell_type": "code",
   "execution_count": 15,
   "metadata": {},
   "outputs": [],
   "source": [
    "df['received_year'] = pd.DatetimeIndex(df['Received Date']).year\n",
    "df['received_month'] = pd.DatetimeIndex(df['Received Date']).month\n",
    "df['received_day'] = pd.DatetimeIndex(df['Received Date']).day"
   ]
  },
  {
   "cell_type": "code",
   "execution_count": 16,
   "metadata": {},
   "outputs": [
    {
     "data": {
      "text/plain": [
       "dtype('int64')"
      ]
     },
     "execution_count": 16,
     "metadata": {},
     "output_type": "execute_result"
    }
   ],
   "source": [
    "df['Received Age'].dtypes"
   ]
  },
  {
   "cell_type": "code",
   "execution_count": 17,
   "metadata": {},
   "outputs": [],
   "source": [
    "df['DOB'] = pd.to_datetime(df['DOB']) #change date of birth column to a datetime\n",
    "df['dob_year']= pd.DatetimeIndex(df['DOB']).year\n",
    "df['dob_month'] = pd.DatetimeIndex(df['DOB']).month\n",
    "df['dob_day'] = pd.DatetimeIndex(df['DOB']).day"
   ]
  },
  {
   "cell_type": "code",
   "execution_count": 18,
   "metadata": {},
   "outputs": [],
   "source": [
    "df['Offense Date'] = df['Offense Date'].apply(lambda x: x.split(' and')[0])\n",
    "df['Offense Date'] = df['Offense Date'].apply(lambda x: x.split(' through')[0])\n",
    "df['Offense Date'] = pd.to_datetime(df['Offense Date'])\n",
    "df['off_date_year']= pd.DatetimeIndex(df['Offense Date']).year\n",
    "df['off_date_month'] = pd.DatetimeIndex(df['Offense Date']).month\n",
    "df['off_date_day'] = pd.DatetimeIndex(df['Offense Date']).day"
   ]
  },
  {
   "cell_type": "code",
   "execution_count": 19,
   "metadata": {},
   "outputs": [
    {
     "data": {
      "text/plain": [
       "array(['Prior Occupation\\nSales', 'Prior Occupation\\nUnknown',\n",
       "       'Prior Occupation\\nhydro-water blaster, laborer',\n",
       "       'Prior Occupation\\nNone', 'Prior Occupation\\nLaborer'],\n",
       "      dtype=object)"
      ]
     },
     "execution_count": 19,
     "metadata": {},
     "output_type": "execute_result"
    }
   ],
   "source": [
    "df['Occupation'].unique()[:5]"
   ]
  },
  {
   "cell_type": "code",
   "execution_count": 20,
   "metadata": {},
   "outputs": [],
   "source": [
    "df['Occupation'] = df['Occupation'].apply(lambda x: x.split('\\n')[1:])"
   ]
  },
  {
   "cell_type": "code",
   "execution_count": 21,
   "metadata": {},
   "outputs": [],
   "source": [
    "df['Record'] = df['Record'].apply(lambda x: x.split('\\n')[1:])"
   ]
  },
  {
   "cell_type": "code",
   "execution_count": 22,
   "metadata": {},
   "outputs": [],
   "source": [
    "df['Co_defendants'] = df['Co_defendants'].apply(lambda x: x.split('\\n')[1:])"
   ]
  },
  {
   "cell_type": "code",
   "execution_count": 23,
   "metadata": {},
   "outputs": [],
   "source": [
    "df['Victim_race_gender'] = df['Victim_race_gender'].apply(lambda x: str(x).split('\\n')[1:])"
   ]
  },
  {
   "cell_type": "code",
   "execution_count": 24,
   "metadata": {},
   "outputs": [
    {
     "data": {
      "text/plain": [
       "0      [One hispanic male, one white male]\n",
       "1                           [White female]\n",
       "2                        [Hispanic/Female]\n",
       "3                           [White female]\n",
       "4                        [Hispanic female]\n",
       "                      ...                 \n",
       "160                        [Hispanic/Male]\n",
       "161                      [Hispanic female]\n",
       "162                      [Hispanic female]\n",
       "163                           [White male]\n",
       "164               [Indian male and female]\n",
       "Name: Victim_race_gender, Length: 165, dtype: object"
      ]
     },
     "execution_count": 24,
     "metadata": {},
     "output_type": "execute_result"
    }
   ],
   "source": [
    "df.Victim_race_gender"
   ]
  },
  {
   "cell_type": "code",
   "execution_count": 25,
   "metadata": {},
   "outputs": [],
   "source": [
    "df.columns = map(str.lower, df.columns) #lowercase data columns"
   ]
  },
  {
   "cell_type": "code",
   "execution_count": 26,
   "metadata": {},
   "outputs": [
    {
     "data": {
      "text/plain": [
       "Index(['name', 'tdcj #', 'dob', 'received date', 'received age',\n",
       "       'education level', 'offense date', 'age', 'county', 'race', 'gender',\n",
       "       'hair', 'height', 'weight', 'eyes', 'native county', 'native state',\n",
       "       'occupation', 'record', 'incident', 'co_defendants',\n",
       "       'victim_race_gender', 'f_name', 'l_name', 'received_year',\n",
       "       'received_month', 'received_day', 'dob_year', 'dob_month', 'dob_day',\n",
       "       'off_date_year', 'off_date_month', 'off_date_day'],\n",
       "      dtype='object')"
      ]
     },
     "execution_count": 26,
     "metadata": {},
     "output_type": "execute_result"
    }
   ],
   "source": [
    "df.columns"
   ]
  },
  {
   "cell_type": "code",
   "execution_count": 27,
   "metadata": {},
   "outputs": [],
   "source": [
    "df.race = df['race'].apply(lambda x: x.replace('Other, (Native American)', 'Native American'))"
   ]
  },
  {
   "cell_type": "code",
   "execution_count": 28,
   "metadata": {},
   "outputs": [
    {
     "data": {
      "text/plain": [
       "array(['Black', 'White', 'Hispanic', 'Asian', 'Other', 'Native American'],\n",
       "      dtype=object)"
      ]
     },
     "execution_count": 28,
     "metadata": {},
     "output_type": "execute_result"
    }
   ],
   "source": [
    "df.race.unique()"
   ]
  },
  {
   "cell_type": "code",
   "execution_count": 29,
   "metadata": {},
   "outputs": [
    {
     "data": {
      "text/plain": [
       "array(['Texas', 'Louisiana', 'California', 'Tennessee', 'Mexico', 'MO',\n",
       "       'Honduras', 'Nebraska', 'Mississippi', 'Missouri', 'Oklahoma',\n",
       "       'No rth Carolina', 'Illinois', 'Arkansas', 'Virgin Islands',\n",
       "       'El Salvador', 'Ecuador', 'Virginia', 'Indiana', nan,\n",
       "       'Pennsylvania', 'New York', 'Ohio', 'Nicaragua', 'Maryland',\n",
       "       'Kansas', 'Cuba', 'Florida', 'Georgia', 'Michigan'], dtype=object)"
      ]
     },
     "execution_count": 29,
     "metadata": {},
     "output_type": "execute_result"
    }
   ],
   "source": [
    "df['native state'].unique()"
   ]
  },
  {
   "cell_type": "code",
   "execution_count": 30,
   "metadata": {},
   "outputs": [],
   "source": [
    "df['native state'] = df['native state'].apply(lambda x: str(x).replace('No rth Carolina','North Carolina'))\n",
    "df['native state'] = df['native state'].apply(lambda x: x.replace('MO','Missouri'))"
   ]
  },
  {
   "cell_type": "code",
   "execution_count": 31,
   "metadata": {},
   "outputs": [
    {
     "data": {
      "text/plain": [
       "array(['Tarrant', 'Bastrop', 'Monterey', 'Gregg County', 'Nueces',\n",
       "       'Davidson', 'Coalman', 'Dallas', 'Harris', 'St. Louis', 'Bowie',\n",
       "       'Caddo Parish', 'El Paso County', 'Tiguligalpa', 'Douglas',\n",
       "       'Tom Green', 'Jones', 'Pontatoz', 'Harris County', 'Frio',\n",
       "       'Howard', 'Hidalgo', 'Craven', 'Ventura', 'Bexar', 'Jefferson',\n",
       "       'Cook', 'San Diego', 'Jefferson County', 'Smith Co.', 'Unknown',\n",
       "       'Rock Island', 'Jackson', 'Hardin', 'Travis', 'Monterey County',\n",
       "       'Galveston County', 'St. Chistopher, British Virgin Islands',\n",
       "       'Monterrey', 'Christead', 'El Salvador', 'El Paso', 'McLennan',\n",
       "       'Brazos', 'Mexico', 'Quito', 'Austin', 'Portsmouth City',\n",
       "       'Washington', 'Tulare', 'Galveston', 'San Luis (Mexico)',\n",
       "       'Chalchihuites, Zacatecas', 'Brazoria', 'Altoona',\n",
       "       'Queens, Jamaica', 'Allen', 'Lafayette Parish', nan, 'Chinadega',\n",
       "       'Wharton', 'Matagorda', 'Titus', 'Lake County', 'Tamaulipas',\n",
       "       'Contra Costa', 'Victoria', 'Wood', 'Kaufman', 'Gray', 'Annapolis',\n",
       "       'Santa Rosa', 'Sedgewick', 'Havana', 'Los Angeles', 'Cameron',\n",
       "       'Lee', 'Hunt', 'Collin', 'Fulton County', 'Muskogee', 'Henderson',\n",
       "       'Potter', 'Bell', 'Iosco', 'Sutton', 'Calcasieu Parrish',\n",
       "       'Anderson'], dtype=object)"
      ]
     },
     "execution_count": 31,
     "metadata": {},
     "output_type": "execute_result"
    }
   ],
   "source": [
    "df['native county'].unique()"
   ]
  },
  {
   "cell_type": "code",
   "execution_count": 32,
   "metadata": {},
   "outputs": [],
   "source": [
    "df['native county'] = df['native county'].apply(lambda x: str(x).replace('Unknown','nan'))"
   ]
  },
  {
   "cell_type": "code",
   "execution_count": 33,
   "metadata": {},
   "outputs": [
    {
     "data": {
      "text/plain": [
       "array(['233', '176', '202', '250', '180', '191', '147', '175', '212',\n",
       "       '184', '163', '231', '183', '196', '160', '145', '240', '164',\n",
       "       '149', '136', '276', '194', '141', '188', '168', '236', '178',\n",
       "       '165', '203', '172', '235', '300', '364', '162', '181', '173',\n",
       "       '142', '215', '170', '190', '227', '185', '306', '200', '220',\n",
       "       '229', '208', '269', '286', '210', '166', '222', '135', '150 lbs.',\n",
       "       '153', '193', '254', '206', '159', '143 lbs', '216', '262', '157',\n",
       "       '234', '134', '283', '185 lbs.', '144', '212 lbs', '177', '281',\n",
       "       '171', '217', '152 lbs', '230', '205', '291', '204', '280', '150',\n",
       "       '201', '174', '000', '195', '169', '183 lbs', '155', '182', '198',\n",
       "       '187 lbs.', '152', '125', '156', '244', '240 lbs', '211'],\n",
       "      dtype=object)"
      ]
     },
     "execution_count": 33,
     "metadata": {},
     "output_type": "execute_result"
    }
   ],
   "source": [
    "df.weight.unique()"
   ]
  },
  {
   "cell_type": "code",
   "execution_count": 34,
   "metadata": {},
   "outputs": [],
   "source": [
    "df['weight'] = df['weight'].apply(lambda x: float(x.split(' ')[0]))\n",
    "df['weight'] =df['weight'].apply(lambda x: np.nan if x ==0 else x)"
   ]
  },
  {
   "cell_type": "code",
   "execution_count": 35,
   "metadata": {},
   "outputs": [
    {
     "data": {
      "text/plain": [
       "array(['Black', 'Brown', 'Blonde', 'Grey', 'Gray'], dtype=object)"
      ]
     },
     "execution_count": 35,
     "metadata": {},
     "output_type": "execute_result"
    }
   ],
   "source": [
    "df['hair'].unique()"
   ]
  },
  {
   "cell_type": "code",
   "execution_count": 36,
   "metadata": {},
   "outputs": [],
   "source": [
    "df['hair'] = df['hair'].apply(lambda x: x.replace('Grey', 'Gray'))"
   ]
  },
  {
   "cell_type": "code",
   "execution_count": null,
   "metadata": {},
   "outputs": [],
   "source": [
    "df['incident'] = df['incident'].apply(lambda x: str(x).replace('Summary of Incident\\n',''))"
   ]
  },
  {
   "cell_type": "code",
   "execution_count": null,
   "metadata": {},
   "outputs": [],
   "source": [
    "#df['record'] = df['record'].apply(lambda x: str(x).replace('','None'))"
   ]
  },
  {
   "cell_type": "code",
   "execution_count": 57,
   "metadata": {},
   "outputs": [],
   "source": [
    "df['record']"
   ]
  },
  {
   "cell_type": "code",
   "execution_count": null,
   "metadata": {},
   "outputs": [],
   "source": [
    "#df['record'] = df['record'].apply(lambda x: str(x).replace('N/A','None'))"
   ]
  },
  {
   "cell_type": "code",
   "execution_count": 70,
   "metadata": {
    "scrolled": true
   },
   "outputs": [
    {
     "data": {
      "text/html": [
       "<div>\n",
       "<style scoped>\n",
       "    .dataframe tbody tr th:only-of-type {\n",
       "        vertical-align: middle;\n",
       "    }\n",
       "\n",
       "    .dataframe tbody tr th {\n",
       "        vertical-align: top;\n",
       "    }\n",
       "\n",
       "    .dataframe thead th {\n",
       "        text-align: right;\n",
       "    }\n",
       "</style>\n",
       "<table border=\"1\" class=\"dataframe\">\n",
       "  <thead>\n",
       "    <tr style=\"text-align: right;\">\n",
       "      <th></th>\n",
       "      <th>name</th>\n",
       "      <th>tdcj #</th>\n",
       "      <th>dob</th>\n",
       "      <th>received date</th>\n",
       "      <th>received age</th>\n",
       "      <th>education level</th>\n",
       "      <th>offense date</th>\n",
       "      <th>age</th>\n",
       "      <th>county</th>\n",
       "      <th>race</th>\n",
       "      <th>gender</th>\n",
       "      <th>hair</th>\n",
       "      <th>height</th>\n",
       "      <th>weight</th>\n",
       "      <th>eyes</th>\n",
       "      <th>native county</th>\n",
       "      <th>native state</th>\n",
       "      <th>occupation</th>\n",
       "      <th>record</th>\n",
       "      <th>incident</th>\n",
       "      <th>co_defendants</th>\n",
       "      <th>victim_race_gender</th>\n",
       "      <th>f_name</th>\n",
       "      <th>l_name</th>\n",
       "      <th>received_year</th>\n",
       "      <th>received_month</th>\n",
       "      <th>received_day</th>\n",
       "      <th>dob_year</th>\n",
       "      <th>dob_month</th>\n",
       "      <th>dob_day</th>\n",
       "      <th>off_date_year</th>\n",
       "      <th>off_date_month</th>\n",
       "      <th>off_date_day</th>\n",
       "      <th>county_code</th>\n",
       "    </tr>\n",
       "  </thead>\n",
       "  <tbody>\n",
       "    <tr>\n",
       "      <th>0</th>\n",
       "      <td>Rockwell, Kwame A.</td>\n",
       "      <td>999570</td>\n",
       "      <td>1975-12-07</td>\n",
       "      <td>2012-01-30</td>\n",
       "      <td>36</td>\n",
       "      <td>12.0</td>\n",
       "      <td>2010-03-23</td>\n",
       "      <td>34</td>\n",
       "      <td>Tarrant</td>\n",
       "      <td>Black</td>\n",
       "      <td>Male</td>\n",
       "      <td>Black</td>\n",
       "      <td>6′ 1″</td>\n",
       "      <td>233.0</td>\n",
       "      <td>Brown</td>\n",
       "      <td>Tarrant</td>\n",
       "      <td>Texas</td>\n",
       "      <td>[Sales]</td>\n",
       "      <td>[None]</td>\n",
       "      <td>Summary of Incident\\nIn the early morning hour...</td>\n",
       "      <td>[Randy Ciebel, Tyron Thomas, Chance Smith, and...</td>\n",
       "      <td>[One hispanic male, one white male]</td>\n",
       "      <td>Kwame A.</td>\n",
       "      <td>Rockwell</td>\n",
       "      <td>2012</td>\n",
       "      <td>1</td>\n",
       "      <td>30</td>\n",
       "      <td>1975</td>\n",
       "      <td>12</td>\n",
       "      <td>7</td>\n",
       "      <td>2010</td>\n",
       "      <td>3</td>\n",
       "      <td>23</td>\n",
       "      <td>48439</td>\n",
       "    </tr>\n",
       "    <tr>\n",
       "      <th>1</th>\n",
       "      <td>Burton, Arthur Lee</td>\n",
       "      <td>999283</td>\n",
       "      <td>2070-03-29</td>\n",
       "      <td>1998-09-16</td>\n",
       "      <td>28</td>\n",
       "      <td>12.0</td>\n",
       "      <td>1997-07-29</td>\n",
       "      <td>27</td>\n",
       "      <td>Harris</td>\n",
       "      <td>Black</td>\n",
       "      <td>Male</td>\n",
       "      <td>Black</td>\n",
       "      <td>5′ 10″</td>\n",
       "      <td>176.0</td>\n",
       "      <td>Brown</td>\n",
       "      <td>Bastrop</td>\n",
       "      <td>Louisiana</td>\n",
       "      <td>[Unknown]</td>\n",
       "      <td>[None]</td>\n",
       "      <td>Summary of Incident\\nOn July 29, 1997, in Hous...</td>\n",
       "      <td>[None]</td>\n",
       "      <td>[White female]</td>\n",
       "      <td>Arthur Lee</td>\n",
       "      <td>Burton</td>\n",
       "      <td>1998</td>\n",
       "      <td>9</td>\n",
       "      <td>16</td>\n",
       "      <td>2070</td>\n",
       "      <td>3</td>\n",
       "      <td>29</td>\n",
       "      <td>1997</td>\n",
       "      <td>7</td>\n",
       "      <td>29</td>\n",
       "      <td>48201</td>\n",
       "    </tr>\n",
       "    <tr>\n",
       "      <th>2</th>\n",
       "      <td>Gallo, Tomas Raul</td>\n",
       "      <td>999469</td>\n",
       "      <td>1975-03-01</td>\n",
       "      <td>2004-02-24</td>\n",
       "      <td>28</td>\n",
       "      <td>11.0</td>\n",
       "      <td>2003-12-11</td>\n",
       "      <td>28</td>\n",
       "      <td>Harris</td>\n",
       "      <td>White</td>\n",
       "      <td>Male</td>\n",
       "      <td>Brown</td>\n",
       "      <td>5′ 10″</td>\n",
       "      <td>202.0</td>\n",
       "      <td>Black</td>\n",
       "      <td>Monterey</td>\n",
       "      <td>California</td>\n",
       "      <td>[hydro-water blaster, laborer]</td>\n",
       "      <td>[None]</td>\n",
       "      <td>Summary of Incident\\nOn 12/11/2001, in Harris ...</td>\n",
       "      <td>[None]</td>\n",
       "      <td>[Hispanic/Female]</td>\n",
       "      <td>Tomas Raul</td>\n",
       "      <td>Gallo</td>\n",
       "      <td>2004</td>\n",
       "      <td>2</td>\n",
       "      <td>24</td>\n",
       "      <td>1975</td>\n",
       "      <td>3</td>\n",
       "      <td>1</td>\n",
       "      <td>2003</td>\n",
       "      <td>12</td>\n",
       "      <td>11</td>\n",
       "      <td>48201</td>\n",
       "    </tr>\n",
       "    <tr>\n",
       "      <th>3</th>\n",
       "      <td>Milam, Blaine Keith</td>\n",
       "      <td>999558</td>\n",
       "      <td>1989-12-12</td>\n",
       "      <td>2010-06-11</td>\n",
       "      <td>20</td>\n",
       "      <td>4.0</td>\n",
       "      <td>2008-12-02</td>\n",
       "      <td>18</td>\n",
       "      <td>Rusk</td>\n",
       "      <td>White</td>\n",
       "      <td>Male</td>\n",
       "      <td>Blonde</td>\n",
       "      <td>6′ 0″</td>\n",
       "      <td>250.0</td>\n",
       "      <td>Green</td>\n",
       "      <td>Gregg County</td>\n",
       "      <td>Texas</td>\n",
       "      <td>[None]</td>\n",
       "      <td>[None]</td>\n",
       "      <td>Summary of Incident\\nIn December 2008, Milam a...</td>\n",
       "      <td>[Jessica Bain Carson]</td>\n",
       "      <td>[White female]</td>\n",
       "      <td>Blaine Keith</td>\n",
       "      <td>Milam</td>\n",
       "      <td>2010</td>\n",
       "      <td>6</td>\n",
       "      <td>11</td>\n",
       "      <td>1989</td>\n",
       "      <td>12</td>\n",
       "      <td>12</td>\n",
       "      <td>2008</td>\n",
       "      <td>12</td>\n",
       "      <td>2</td>\n",
       "      <td>48401</td>\n",
       "    </tr>\n",
       "    <tr>\n",
       "      <th>4</th>\n",
       "      <td>Vasquez, Richard</td>\n",
       "      <td>999319</td>\n",
       "      <td>1979-04-17</td>\n",
       "      <td>1999-06-24</td>\n",
       "      <td>20</td>\n",
       "      <td>9.0</td>\n",
       "      <td>1998-03-05</td>\n",
       "      <td>18</td>\n",
       "      <td>Nueces</td>\n",
       "      <td>Hispanic</td>\n",
       "      <td>Male</td>\n",
       "      <td>Black</td>\n",
       "      <td>5′ 9″</td>\n",
       "      <td>180.0</td>\n",
       "      <td>Brown</td>\n",
       "      <td>Nueces</td>\n",
       "      <td>Texas</td>\n",
       "      <td>[Laborer]</td>\n",
       "      <td>[None]</td>\n",
       "      <td>Summary of Incident\\nOn 03/05/98, during the d...</td>\n",
       "      <td>[None]</td>\n",
       "      <td>[Hispanic female]</td>\n",
       "      <td>Richard</td>\n",
       "      <td>Vasquez</td>\n",
       "      <td>1999</td>\n",
       "      <td>6</td>\n",
       "      <td>24</td>\n",
       "      <td>1979</td>\n",
       "      <td>4</td>\n",
       "      <td>17</td>\n",
       "      <td>1998</td>\n",
       "      <td>3</td>\n",
       "      <td>5</td>\n",
       "      <td>48355</td>\n",
       "    </tr>\n",
       "  </tbody>\n",
       "</table>\n",
       "</div>"
      ],
      "text/plain": [
       "                  name  tdcj #        dob received date  received age  \\\n",
       "0   Rockwell, Kwame A.  999570 1975-12-07    2012-01-30            36   \n",
       "1   Burton, Arthur Lee  999283 2070-03-29    1998-09-16            28   \n",
       "2    Gallo, Tomas Raul  999469 1975-03-01    2004-02-24            28   \n",
       "3  Milam, Blaine Keith  999558 1989-12-12    2010-06-11            20   \n",
       "4     Vasquez, Richard  999319 1979-04-17    1999-06-24            20   \n",
       "\n",
       "   education level offense date  age   county      race gender    hair  \\\n",
       "0             12.0   2010-03-23   34  Tarrant     Black   Male   Black   \n",
       "1             12.0   1997-07-29   27   Harris     Black   Male   Black   \n",
       "2             11.0   2003-12-11   28   Harris     White   Male   Brown   \n",
       "3              4.0   2008-12-02   18     Rusk     White   Male  Blonde   \n",
       "4              9.0   1998-03-05   18   Nueces  Hispanic   Male   Black   \n",
       "\n",
       "   height  weight   eyes native county native state  \\\n",
       "0   6′ 1″   233.0  Brown       Tarrant        Texas   \n",
       "1  5′ 10″   176.0  Brown       Bastrop    Louisiana   \n",
       "2  5′ 10″   202.0  Black      Monterey   California   \n",
       "3   6′ 0″   250.0  Green  Gregg County        Texas   \n",
       "4   5′ 9″   180.0  Brown        Nueces        Texas   \n",
       "\n",
       "                       occupation  record  \\\n",
       "0                         [Sales]  [None]   \n",
       "1                       [Unknown]  [None]   \n",
       "2  [hydro-water blaster, laborer]  [None]   \n",
       "3                          [None]  [None]   \n",
       "4                       [Laborer]  [None]   \n",
       "\n",
       "                                            incident  \\\n",
       "0  Summary of Incident\\nIn the early morning hour...   \n",
       "1  Summary of Incident\\nOn July 29, 1997, in Hous...   \n",
       "2  Summary of Incident\\nOn 12/11/2001, in Harris ...   \n",
       "3  Summary of Incident\\nIn December 2008, Milam a...   \n",
       "4  Summary of Incident\\nOn 03/05/98, during the d...   \n",
       "\n",
       "                                       co_defendants  \\\n",
       "0  [Randy Ciebel, Tyron Thomas, Chance Smith, and...   \n",
       "1                                             [None]   \n",
       "2                                             [None]   \n",
       "3                              [Jessica Bain Carson]   \n",
       "4                                             [None]   \n",
       "\n",
       "                    victim_race_gender         f_name    l_name  \\\n",
       "0  [One hispanic male, one white male]       Kwame A.  Rockwell   \n",
       "1                       [White female]     Arthur Lee    Burton   \n",
       "2                    [Hispanic/Female]     Tomas Raul     Gallo   \n",
       "3                       [White female]   Blaine Keith     Milam   \n",
       "4                    [Hispanic female]        Richard   Vasquez   \n",
       "\n",
       "   received_year  received_month  received_day  dob_year  dob_month  dob_day  \\\n",
       "0           2012               1            30      1975         12        7   \n",
       "1           1998               9            16      2070          3       29   \n",
       "2           2004               2            24      1975          3        1   \n",
       "3           2010               6            11      1989         12       12   \n",
       "4           1999               6            24      1979          4       17   \n",
       "\n",
       "   off_date_year  off_date_month  off_date_day  county_code  \n",
       "0           2010               3            23        48439  \n",
       "1           1997               7            29        48201  \n",
       "2           2003              12            11        48201  \n",
       "3           2008              12             2        48401  \n",
       "4           1998               3             5        48355  "
      ]
     },
     "execution_count": 70,
     "metadata": {},
     "output_type": "execute_result"
    }
   ],
   "source": [
    "df.head()"
   ]
  },
  {
   "cell_type": "code",
   "execution_count": 53,
   "metadata": {},
   "outputs": [
    {
     "data": {
      "text/plain": [
       "array(['Tarrant', 'Harris', 'Rusk', 'Nueces', 'Collin', 'Dallas', 'Bowie',\n",
       "       'El Paso', 'Smith', 'Tom Green', 'Medina', 'Hidalgo', 'Bastrop',\n",
       "       'Bexar', 'Potter', 'Hardin', 'Travis', 'Jones', 'Jackson',\n",
       "       'McLennan', 'Angelina', 'Hays', 'Brazos', 'Williamson', 'Denton',\n",
       "       'Kaufman', 'Bell', 'Jefferson', 'Walker', 'Fort Bend', 'Bandera',\n",
       "       'Brazoria', 'Midland', 'Cameron', 'Anderson', 'Hunt', 'Webb',\n",
       "       'Lubbock', 'Grayson', 'Henderson', 'Randall'], dtype=object)"
      ]
     },
     "execution_count": 53,
     "metadata": {},
     "output_type": "execute_result"
    }
   ],
   "source": [
    "df['county'].unique()"
   ]
  },
  {
   "cell_type": "code",
   "execution_count": 52,
   "metadata": {},
   "outputs": [],
   "source": [
    "df['county'] = df['county'].apply(lambda x: x.replace('Angelina (Change of venue from Walker)','Angelina'))\n",
    "df['county'] = df['county'].apply(lambda x: x.replace('Denton (on change of venue from Wichita)','Denton'))\n",
    "df['county'] = df['county'].apply(lambda x: x.replace('Bandera on change of venue from Kerr County','Bandera'))\n",
    "df['county'] = df['county'].apply(lambda x: x.replace('Smith Co.','Smith'))\n",
    "df['county'] = df['county'].apply(lambda x: x.replace('Collins','Collin'))"
   ]
  },
  {
   "cell_type": "code",
   "execution_count": 68,
   "metadata": {},
   "outputs": [],
   "source": [
    "#county name to code\n",
    "county_code = {'Tarrant': 48439, 'Harris': 48201, 'Rusk': 48401, 'Nueces': 48355 , 'Collin': 48085, 'Dallas': 48113, 'Bowie': 48037,\n",
    "       'El Paso': 48141, 'Smith': 48423, 'Tom Green': 48451, 'Medina': 48325, 'Hidalgo': 48215, 'Bastrop': 48021,\n",
    "       'Bexar': 48029, 'Potter': 48375, 'Hardin': 48199, 'Travis': 48453,\n",
    "       'Jones': 48253, 'Jackson': 48239, 'McLennan': 48309, 'Angelina': 48005, 'Hays': 48209, 'Brazos': 48041,\n",
    "       'Williamson': 48491, 'Denton': 48121, 'Kaufman': 48257, 'Bell': 48027, 'Jefferson': 48245, 'Walker': 48471,\n",
    "       'Fort Bend': 48157, 'Bandera': 48019, 'Brazoria': 48039, 'Midland': 48329, 'Cameron': 48061,\n",
    "       'Anderson': 48001, 'Hunt': 48231, 'Webb': 48479, 'Lubbock': 48303, 'Grayson': 48181, 'Henderson': 48213,\n",
    "       'Randall': 48381}"
   ]
  },
  {
   "cell_type": "code",
   "execution_count": 69,
   "metadata": {},
   "outputs": [],
   "source": [
    "df['county_code'] = df['county'].map(county_code)"
   ]
  },
  {
   "cell_type": "code",
   "execution_count": 71,
   "metadata": {},
   "outputs": [],
   "source": [
    "df.to_csv(\"datasets/processed_data.csv\")"
   ]
  },
  {
   "cell_type": "code",
   "execution_count": null,
   "metadata": {},
   "outputs": [],
   "source": []
  }
 ],
 "metadata": {
  "kernelspec": {
   "display_name": "Python 3",
   "language": "python",
   "name": "python3"
  },
  "language_info": {
   "codemirror_mode": {
    "name": "ipython",
    "version": 3
   },
   "file_extension": ".py",
   "mimetype": "text/x-python",
   "name": "python",
   "nbconvert_exporter": "python",
   "pygments_lexer": "ipython3",
   "version": "3.7.6"
  }
 },
 "nbformat": 4,
 "nbformat_minor": 4
}
